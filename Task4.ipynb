{
  "nbformat": 4,
  "nbformat_minor": 0,
  "metadata": {
    "colab": {
      "provenance": []
    },
    "kernelspec": {
      "name": "python3",
      "display_name": "Python 3"
    },
    "language_info": {
      "name": "python"
    }
  },
  "cells": [
    {
      "cell_type": "code",
      "execution_count": null,
      "metadata": {
        "colab": {
          "base_uri": "https://localhost:8080/"
        },
        "id": "r2nds6apl-dH",
        "outputId": "fd0b8e8f-3a41-44d1-cbfa-c2aff189b9cd"
      },
      "outputs": [
        {
          "output_type": "stream",
          "name": "stdout",
          "text": [
            "Requirement already satisfied: pyspark in /usr/local/lib/python3.10/dist-packages (3.5.1)\n",
            "Requirement already satisfied: py4j==0.10.9.7 in /usr/local/lib/python3.10/dist-packages (from pyspark) (0.10.9.7)\n"
          ]
        }
      ],
      "source": [
        "!pip install pyspark"
      ]
    },
    {
      "cell_type": "code",
      "source": [
        "from pyspark.sql import SparkSession\n",
        "from pyspark.sql.types import StringType, ArrayType\n",
        "from pyspark.sql.functions import udf, lower, col, split, regexp_replace\n",
        "from nltk.tokenize import word_tokenize\n",
        "from nltk.corpus import stopwords\n",
        "from nltk.sentiment import SentimentIntensityAnalyzer\n",
        "import re\n",
        "import nltk"
      ],
      "metadata": {
        "id": "dfwN8XbVmjXH"
      },
      "execution_count": null,
      "outputs": []
    },
    {
      "cell_type": "code",
      "source": [
        "spark = SparkSession.builder.appName(\"Tweet Preprocessing and Sentiment Analysis\").getOrCreate()\n",
        "df = spark.read.csv('twitter_training.csv', header=True, sep=';')"
      ],
      "metadata": {
        "id": "l-9lMLQKrSmi"
      },
      "execution_count": null,
      "outputs": []
    },
    {
      "cell_type": "code",
      "source": [
        "first_column_name = df.columns[0]\n",
        "split_col = split(df[first_column_name], ',')\n",
        "df = df.withColumn('ID', split_col.getItem(0)).withColumn('Topic', split_col.getItem(1)).withColumn('Sentiment', split_col.getItem(2)) \\\n",
        "       .withColumn('Text', split_col.getItem(3)).drop(first_column_name)"
      ],
      "metadata": {
        "id": "GVRuZBdnmjUt"
      },
      "execution_count": null,
      "outputs": []
    },
    {
      "cell_type": "code",
      "source": [
        "df= df.limit(5000)"
      ],
      "metadata": {
        "id": "BYU8do49vxhK"
      },
      "execution_count": null,
      "outputs": []
    },
    {
      "cell_type": "code",
      "source": [
        "df = df.dropna()\n",
        "df = df.withColumn(\"text\", lower(df[\"text\"]))\n",
        "df.show()"
      ],
      "metadata": {
        "colab": {
          "base_uri": "https://localhost:8080/"
        },
        "id": "4UqaUWi2mjR8",
        "outputId": "30cb6d3d-3ced-4681-dca6-18a38448b9e0"
      },
      "execution_count": null,
      "outputs": [
        {
          "output_type": "stream",
          "name": "stdout",
          "text": [
            "+----+-----------+---------+--------------------+\n",
            "|  ID|      Topic|Sentiment|                text|\n",
            "+----+-----------+---------+--------------------+\n",
            "|2401|Borderlands| Positive|\"i am coming to t...|\n",
            "|2401|Borderlands| Positive|\"im getting on bo...|\n",
            "|2401|Borderlands| Positive|\"im coming on bor...|\n",
            "|2401|Borderlands| Positive|\"im getting on bo...|\n",
            "|2401|Borderlands| Positive|\"im getting into ...|\n",
            "|2402|Borderlands| Positive|so i spent a few ...|\n",
            "|2402|Borderlands| Positive|\"so i spent a cou...|\n",
            "|2402|Borderlands| Positive|so i spent a few ...|\n",
            "|2402|Borderlands| Positive|so i spent a few ...|\n",
            "|2402|Borderlands| Positive|2010 so i spent a...|\n",
            "|2402|Borderlands| Positive|                 was|\n",
            "|2403|Borderlands|  Neutral|\"rock-hard la var...|\n",
            "|2403|Borderlands|  Neutral|\"rock-hard la var...|\n",
            "|2403|Borderlands|  Neutral|\"rock-hard la var...|\n",
            "|2403|Borderlands|  Neutral|  \"rock-hard la vita|\n",
            "|2403|Borderlands|  Neutral|\"live rock - hard...|\n",
            "|2403|Borderlands|  Neutral|     \"i-hard like me|\n",
            "|2404|Borderlands| Positive|that was the firs...|\n",
            "|2404|Borderlands| Positive|this was the firs...|\n",
            "|2404|Borderlands| Positive|that was the firs...|\n",
            "+----+-----------+---------+--------------------+\n",
            "only showing top 20 rows\n",
            "\n"
          ]
        }
      ]
    },
    {
      "cell_type": "code",
      "source": [
        "url_pattern = re.compile(r'http\\S+')\n",
        "df = df.withColumn(\"text\", regexp_replace(df[\"text\"],r\"https?://\\S+|www\\.\\S+\",\"\"))\n",
        "df = df.withColumn(\"text\", regexp_replace(\"text\", r\"@\\S+\", \"\"))\n",
        "df=df.withColumn(\"text\",regexp_replace(df[\"text\"],r\"[^\\w\\s,]\",\"\"))\n",
        "df = df.withColumn(\"text\", regexp_replace(\"text\",\"[^0-9a-zA-Z_\\-|]+:&.\", \" \"))"
      ],
      "metadata": {
        "id": "wcaCmpcft5zj"
      },
      "execution_count": null,
      "outputs": []
    },
    {
      "cell_type": "code",
      "source": [
        "nltk.download('punkt')\n",
        "nltk.download('stopwords')\n",
        "\n",
        "stop_words = set(stopwords.words('english'))\n",
        "\n",
        "def remove_stopwords_and_tokenize(text):\n",
        "    return [word for word in word_tokenize(text) if word.lower() not in stop_words]\n",
        "\n",
        "df = df.withColumn(\"tokenized_column\", udf(remove_stopwords_and_tokenize, ArrayType(StringType()))(\"text\"))\n",
        "df.show(truncate=False)"
      ],
      "metadata": {
        "colab": {
          "base_uri": "https://localhost:8080/"
        },
        "id": "eE1nIvLLmjOx",
        "outputId": "2a56a37c-52e4-4b8e-cfb8-9783ab116673"
      },
      "execution_count": null,
      "outputs": [
        {
          "output_type": "stream",
          "name": "stderr",
          "text": [
            "[nltk_data] Downloading package punkt to /root/nltk_data...\n",
            "[nltk_data]   Package punkt is already up-to-date!\n",
            "[nltk_data] Downloading package stopwords to /root/nltk_data...\n",
            "[nltk_data]   Package stopwords is already up-to-date!\n"
          ]
        },
        {
          "output_type": "stream",
          "name": "stdout",
          "text": [
            "+----+-----------+---------+-----------------------------------------------------------------------------------------------------------------------------------------------------------------------------------------------------------------------------------------------------------------------------------+----------------------------------------------------------------------------------------------------------------------------------------------------------------------------------------------------------------------+\n",
            "|ID  |Topic      |Sentiment|text                                                                                                                                                                                                                                                                               |tokenized_column                                                                                                                                                                                                      |\n",
            "+----+-----------+---------+-----------------------------------------------------------------------------------------------------------------------------------------------------------------------------------------------------------------------------------------------------------------------------------+----------------------------------------------------------------------------------------------------------------------------------------------------------------------------------------------------------------------+\n",
            "|2401|Borderlands|Positive |i am coming to the borders and i will kill you all                                                                                                                                                                                                                                 |[coming, borders, kill]                                                                                                                                                                                               |\n",
            "|2401|Borderlands|Positive |im getting on borderlands and i will kill you all                                                                                                                                                                                                                                  |[im, getting, borderlands, kill]                                                                                                                                                                                      |\n",
            "|2401|Borderlands|Positive |im coming on borderlands and i will murder you all                                                                                                                                                                                                                                 |[im, coming, borderlands, murder]                                                                                                                                                                                     |\n",
            "|2401|Borderlands|Positive |im getting on borderlands 2 and i will murder you me all                                                                                                                                                                                                                           |[im, getting, borderlands, 2, murder]                                                                                                                                                                                 |\n",
            "|2401|Borderlands|Positive |im getting into borderlands and i can murder you all                                                                                                                                                                                                                               |[im, getting, borderlands, murder]                                                                                                                                                                                    |\n",
            "|2402|Borderlands|Positive |so i spent a few hours making something for fun   if you dont know i am a huge  fan and maya is one of my favorite characters so i decided to make myself a wallpaper for my pc  here is the original image versus the creation i made  enjoy pictwittercommlsi5wf9jg              |[spent, hours, making, something, fun, dont, know, huge, fan, maya, one, favorite, characters, decided, make, wallpaper, pc, original, image, versus, creation, made, enjoy, pictwittercommlsi5wf9jg]                 |\n",
            "|2402|Borderlands|Positive |so i spent a couple of hours doing something for fun if you dont know that im a huge  borderlands fan and maya is one of my favorite characters                                                                                                                                    |[spent, couple, hours, something, fun, dont, know, im, huge, borderlands, fan, maya, one, favorite, characters]                                                                                                       |\n",
            "|2402|Borderlands|Positive |so i spent a few hours doing something for fun if you dont know im a huge  borderlands fan and maya is one of my favorite characters                                                                                                                                               |[spent, hours, something, fun, dont, know, im, huge, borderlands, fan, maya, one, favorite, characters]                                                                                                               |\n",
            "|2402|Borderlands|Positive |so i spent a few hours making something for fun   if you dont know i am a huge rhandlerr fan and maya is one of my favorite characters so i decided to make myself a wallpaper for my pc  here is the original image versus the creation i made  enjoy pictwittercommlsi5wf9jg     |[spent, hours, making, something, fun, dont, know, huge, rhandlerr, fan, maya, one, favorite, characters, decided, make, wallpaper, pc, original, image, versus, creation, made, enjoy, pictwittercommlsi5wf9jg]      |\n",
            "|2402|Borderlands|Positive |2010 so i spent a few hours making something for fun   if you dont know i am a huge rhandlerr fan and maya is one of my favorite characters so i decided to make myself a wallpaper for my pc  here is the original image versus the creation i made  enjoy pictwittercommlsi5wf9jg|[2010, spent, hours, making, something, fun, dont, know, huge, rhandlerr, fan, maya, one, favorite, characters, decided, make, wallpaper, pc, original, image, versus, creation, made, enjoy, pictwittercommlsi5wf9jg]|\n",
            "|2402|Borderlands|Positive |was                                                                                                                                                                                                                                                                                |[]                                                                                                                                                                                                                    |\n",
            "|2403|Borderlands|Neutral  |rockhard la varlope                                                                                                                                                                                                                                                                |[rockhard, la, varlope]                                                                                                                                                                                               |\n",
            "|2403|Borderlands|Neutral  |rockhard la varlope                                                                                                                                                                                                                                                                |[rockhard, la, varlope]                                                                                                                                                                                               |\n",
            "|2403|Borderlands|Neutral  |rockhard la varlope                                                                                                                                                                                                                                                                |[rockhard, la, varlope]                                                                                                                                                                                               |\n",
            "|2403|Borderlands|Neutral  |rockhard la vita                                                                                                                                                                                                                                                                   |[rockhard, la, vita]                                                                                                                                                                                                  |\n",
            "|2403|Borderlands|Neutral  |live rock  hard music la la varlope                                                                                                                                                                                                                                                |[live, rock, hard, music, la, la, varlope]                                                                                                                                                                            |\n",
            "|2403|Borderlands|Neutral  |ihard like me                                                                                                                                                                                                                                                                      |[ihard, like]                                                                                                                                                                                                         |\n",
            "|2404|Borderlands|Positive |that was the first borderlands session in a long time where i actually had a really satisfying combat experience i got some really good kills                                                                                                                                      |[first, borderlands, session, long, time, actually, really, satisfying, combat, experience, got, really, good, kills]                                                                                                 |\n",
            "|2404|Borderlands|Positive |this was the first borderlands session in a long time where i actually had a really satisfying fighting experience i got some really good kills                                                                                                                                    |[first, borderlands, session, long, time, actually, really, satisfying, fighting, experience, got, really, good, kills]                                                                                               |\n",
            "|2404|Borderlands|Positive |that was the first borderlands session in a long time where i actually had a really satisfying combat experience i got some really good kills                                                                                                                                      |[first, borderlands, session, long, time, actually, really, satisfying, combat, experience, got, really, good, kills]                                                                                                 |\n",
            "+----+-----------+---------+-----------------------------------------------------------------------------------------------------------------------------------------------------------------------------------------------------------------------------------------------------------------------------------+----------------------------------------------------------------------------------------------------------------------------------------------------------------------------------------------------------------------+\n",
            "only showing top 20 rows\n",
            "\n"
          ]
        }
      ]
    },
    {
      "cell_type": "code",
      "source": [
        "nltk.download('vader_lexicon')\n",
        "\n",
        "def analyze_sentiment(text):\n",
        "    from nltk.sentiment import SentimentIntensityAnalyzer\n",
        "\n",
        "    sia = SentimentIntensityAnalyzer()\n",
        "    sentiment = sia.polarity_scores(text)\n",
        "    compound_score = sentiment['compound']\n",
        "\n",
        "    if compound_score > 0:\n",
        "        return 2\n",
        "    elif compound_score < 0:\n",
        "        return 1\n",
        "    else:\n",
        "        return 0\n",
        "\n",
        "analyze_sentiment_udf = udf(analyze_sentiment, StringType())\n",
        "\n",
        "df = df.withColumn('sentiment_score', analyze_sentiment_udf('text'))\n",
        "df.select(\"text\", \"sentiment_score\").show()"
      ],
      "metadata": {
        "colab": {
          "base_uri": "https://localhost:8080/"
        },
        "id": "iEYaLy98mjMK",
        "outputId": "ca47a902-8096-48f1-c782-f0d0d03960c3"
      },
      "execution_count": null,
      "outputs": [
        {
          "output_type": "stream",
          "name": "stderr",
          "text": [
            "[nltk_data] Downloading package vader_lexicon to /root/nltk_data...\n",
            "[nltk_data]   Package vader_lexicon is already up-to-date!\n"
          ]
        },
        {
          "output_type": "stream",
          "name": "stdout",
          "text": [
            "+--------------------+---------------+\n",
            "|                text|sentiment_score|\n",
            "+--------------------+---------------+\n",
            "|i am coming to th...|              1|\n",
            "|im getting on bor...|              1|\n",
            "|im coming on bord...|              1|\n",
            "|im getting on bor...|              1|\n",
            "|im getting into b...|              1|\n",
            "|so i spent a few ...|              2|\n",
            "|so i spent a coup...|              2|\n",
            "|so i spent a few ...|              2|\n",
            "|so i spent a few ...|              2|\n",
            "|2010 so i spent a...|              2|\n",
            "|                 was|              0|\n",
            "| rockhard la varlope|              0|\n",
            "| rockhard la varlope|              0|\n",
            "| rockhard la varlope|              0|\n",
            "|    rockhard la vita|              0|\n",
            "|live rock  hard m...|              1|\n",
            "|       ihard like me|              2|\n",
            "|that was the firs...|              2|\n",
            "|this was the firs...|              1|\n",
            "|that was the firs...|              2|\n",
            "+--------------------+---------------+\n",
            "only showing top 20 rows\n",
            "\n"
          ]
        }
      ]
    },
    {
      "cell_type": "code",
      "source": [
        "labels = ['Neutral', 'Negative', 'Positive']\n",
        "sentiment_counts = df.groupBy('sentiment_score').count().orderBy('sentiment_score').collect()\n",
        "\n",
        "counts = [row['count'] for row in sentiment_counts]\n",
        "colors = ['#66c2a5', '#fc8d62', '#8da0cb']\n",
        "\n",
        "plt.figure(figsize=(3, 3))\n",
        "plt.pie(counts, labels=labels, colors=colors, autopct='%1.1f%%', startangle=140)\n",
        "plt.title('Distribution of Sentiment Scores')\n",
        "plt.show()"
      ],
      "metadata": {
        "colab": {
          "base_uri": "https://localhost:8080/",
          "height": 290
        },
        "id": "I0HUw5yjsv3g",
        "outputId": "58c426f2-cc80-4eb5-c327-4f4796f5c144"
      },
      "execution_count": null,
      "outputs": [
        {
          "output_type": "display_data",
          "data": {
            "text/plain": [
              "<Figure size 300x300 with 1 Axes>"
            ],
            "image/png": "[encoded data removed]"
          },
          "metadata": {}
        }
      ]
    }
  ]
}